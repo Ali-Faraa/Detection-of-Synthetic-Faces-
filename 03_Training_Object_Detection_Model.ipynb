{
 "cells": [
  {
   "cell_type": "code",
   "execution_count": null,
   "metadata": {
    "colab": {
     "base_uri": "https://localhost:8080/"
    },
    "id": "EuUAiMMyvriX",
    "outputId": "1836cfe4-36c8-4986-d2a0-0294efa6d700"
   },
   "outputs": [],
   "source": [
    "!pip install ultralytics"
   ]
  },
  {
   "cell_type": "code",
   "execution_count": null,
   "metadata": {
    "colab": {
     "base_uri": "https://localhost:8080/"
    },
    "id": "-Dz8W6LswWU0",
    "outputId": "0cfae566-8f7d-43c2-aa10-6655c067bb1a"
   },
   "outputs": [],
   "source": [
    "from google.colab import drive\n",
    "drive.mount('/content/drive')"
   ]
  },
  {
   "cell_type": "code",
   "execution_count": null,
   "metadata": {
    "colab": {
     "base_uri": "https://localhost:8080/"
    },
    "id": "JDu7Q9N-xNTc",
    "outputId": "9f251913-7307-4aeb-9baa-bf015b827e55"
   },
   "outputs": [],
   "source": [
    "from ultralytics import YOLO\n",
    "\n",
    "model = YOLO(\"yolov8n.pt\")  # load a pretrained model"
   ]
  },
  {
   "cell_type": "code",
   "execution_count": null,
   "metadata": {
    "colab": {
     "base_uri": "https://localhost:8080/"
    },
    "id": "54cZ71mUxdSP",
    "outputId": "7bcc7494-2b68-41bd-f206-e4f6e95c4f91"
   },
   "outputs": [],
   "source": [
    "# train the model\n",
    "result = model.train(data=\"/content/drive/MyDrive/Face_Detection_Dataset/data.yaml\", epochs=3)"
   ]
  },
  {
   "cell_type": "markdown",
   "metadata": {
    "id": "b4Qq6pGuNN7i"
   },
   "source": [
    "To Save the trained Model // using tensorflow [#!pip install tensorflow]\n",
    "\n",
    "To save the model - Go to runs->detect->train3->weights---->then either download best.pt or last.pt"
   ]
  },
  {
   "cell_type": "code",
   "execution_count": null,
   "metadata": {
    "id": "pf-2bmrFNLs6"
   },
   "outputs": [],
   "source": [
    "# Loading Trained Model\n",
    "from ultralytics import YOLO\n",
    "\n",
    "# Load a trained model\n",
    "\n",
    "trained_model = YOLO(\"/content/drive/MyDrive/YoloV8_Face_Detection_Model.pt\")"
   ]
  },
  {
   "cell_type": "code",
   "execution_count": null,
   "metadata": {
    "colab": {
     "base_uri": "https://localhost:8080/",
     "height": 724
    },
    "id": "QNIokPWxNtju",
    "outputId": "febf1ae5-4088-44a8-bcd3-5adae3ecb2f2"
   },
   "outputs": [],
   "source": [
    "from PIL import Image\n",
    "import cv2\n",
    "from google.colab.patches import cv2_imshow\n",
    "\n",
    "\n",
    "results = trained_model('https://www.thehrdigest.com/wp-content/uploads/2021/12/5-Types-of-People-e1640865120273.jpg',conf = 0.70)\n",
    "\n",
    "for r in results:\n",
    "    im_array = r.plot()  # plot a BGR numpy array of predictions\n",
    "    im = Image.fromarray(im_array[..., ::-1])  # RGB PIL image\n",
    "    img = cv2.cvtColor(im_array[..., ::-1], cv2.COLOR_BGR2RGB) # Open-CV reads images as BGR, we convert it to RGB\n",
    "    cv2_imshow(img)"
   ]
  },
  {
   "cell_type": "code",
   "execution_count": null,
   "metadata": {
    "colab": {
     "base_uri": "https://localhost:8080/",
     "height": 1000
    },
    "id": "JMXatC7cNuSa",
    "outputId": "6a50af22-d006-413e-f051-4782bf7e07de"
   },
   "outputs": [],
   "source": [
    "\n",
    "# Loop through detections\n",
    "for result in results:\n",
    "  boxes = result.boxes.cpu().numpy()  # Get boxes on CPU as NumPy array\n",
    "  for box in boxes:\n",
    "    # Get box coordinates (converted to integer)\n",
    "    print(box.xyxy)\n",
    "    x_min = int(box[0].xyxy[0][0] )\n",
    "    y_min = int(box[0].xyxy[0][1] )\n",
    "    x_max = int(box[0].xyxy[0][2] )\n",
    "    y_max = int(box[0].xyxy[0][3] )\n",
    "    print(x_min, y_min, x_max, y_max)\n",
    "\n",
    "    # Crop the image using bounding box coordinates\n",
    "    cropped_img = img[y_min:y_max, x_min:x_max]\n",
    "    cv2_imshow(cropped_img)\n",
    "\n",
    "\n",
    "# Display the original image (optional)\n",
    "# cv2.imshow(\"Image\", img)\n",
    "# cv2.waitKey(0)\n",
    "# cv2.destroyAllWindows()"
   ]
  }
 ],
 "metadata": {
  "accelerator": "GPU",
  "colab": {
   "gpuType": "T4",
   "provenance": []
  },
  "kernelspec": {
   "display_name": "Python [conda env:base] *",
   "language": "python",
   "name": "conda-base-py"
  },
  "language_info": {
   "codemirror_mode": {
    "name": "ipython",
    "version": 3
   },
   "file_extension": ".py",
   "mimetype": "text/x-python",
   "name": "python",
   "nbconvert_exporter": "python",
   "pygments_lexer": "ipython3",
   "version": "3.12.7"
  }
 },
 "nbformat": 4,
 "nbformat_minor": 4
}
